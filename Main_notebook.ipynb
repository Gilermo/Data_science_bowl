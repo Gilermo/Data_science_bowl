{
 "cells": [
  {
   "cell_type": "markdown",
   "metadata": {},
   "source": [
    "# Project Imports"
   ]
  },
  {
   "cell_type": "code",
   "execution_count": 1,
   "metadata": {},
   "outputs": [
    {
     "name": "stderr",
     "output_type": "stream",
     "text": [
      "/home/omri/my_gpu/.env/lib/python3.5/site-packages/h5py/__init__.py:36: FutureWarning: Conversion of the second argument of issubdtype from `float` to `np.floating` is deprecated. In future, it will be treated as `np.float64 == np.dtype(float).type`.\n",
      "  from ._conv import register_converters as _register_converters\n",
      "Using TensorFlow backend.\n"
     ]
    }
   ],
   "source": [
    "from project_utils import config_paths\n",
    "config_paths('omri', 'my_env') # Change to your name and your environment folder!\n",
    "from project_utils import read_images, mean_iou, rle_encoding, prob_to_rles, predict_results, create_submission_file\n",
    "from skimage.transform import resize\n",
    "from skimage.morphology import label\n",
    "from keras.callbacks import EarlyStopping, ModelCheckpoint\n",
    "import os\n",
    "import numpy as np\n",
    "import pandas as pd\n",
    "from tqdm import tqdm\n",
    "import time"
   ]
  },
  {
   "cell_type": "code",
   "execution_count": 2,
   "metadata": {},
   "outputs": [],
   "source": [
    "main_tic = time.time()"
   ]
  },
  {
   "cell_type": "markdown",
   "metadata": {},
   "source": [
    "# Model Imports"
   ]
  },
  {
   "cell_type": "code",
   "execution_count": 3,
   "metadata": {},
   "outputs": [],
   "source": [
    "from keras.models import Model, load_model\n",
    "from keras.layers import Input\n",
    "from keras.layers.core import Dropout, Lambda\n",
    "from keras.layers.convolutional import Conv2D, Conv2DTranspose\n",
    "from keras.layers.pooling import MaxPooling2D\n",
    "from keras.layers.merge import concatenate\n",
    "from keras.callbacks import EarlyStopping, ModelCheckpoint\n",
    "from keras import backend as K\n",
    "import tensorflow as tf"
   ]
  },
  {
   "cell_type": "markdown",
   "metadata": {},
   "source": [
    "# Constants"
   ]
  },
  {
   "cell_type": "code",
   "execution_count": 4,
   "metadata": {},
   "outputs": [],
   "source": [
    "TRAIN_PATH = '../../stage1_train/'\n",
    "TEST_PATH = '../../stage1_test/'\n",
    "IMG_WIDTH = 128\n",
    "IMG_HEIGHT = 128\n",
    "IMG_CHANNELS = 3"
   ]
  },
  {
   "cell_type": "markdown",
   "metadata": {},
   "source": [
    "# Read the data"
   ]
  },
  {
   "cell_type": "code",
   "execution_count": 5,
   "metadata": {},
   "outputs": [
    {
     "name": "stdout",
     "output_type": "stream",
     "text": [
      "Getting and resizing train images and masks ... \n"
     ]
    },
    {
     "name": "stderr",
     "output_type": "stream",
     "text": [
      "100%|██████████| 650/650 [01:34<00:00,  6.89it/s]"
     ]
    },
    {
     "name": "stdout",
     "output_type": "stream",
     "text": [
      "Getting and resizing test images ... \n"
     ]
    },
    {
     "name": "stderr",
     "output_type": "stream",
     "text": [
      "\n",
      "100%|██████████| 65/65 [00:00<00:00, 95.76it/s] "
     ]
    },
    {
     "name": "stdout",
     "output_type": "stream",
     "text": [
      "Done!\n"
     ]
    },
    {
     "name": "stderr",
     "output_type": "stream",
     "text": [
      "\n"
     ]
    }
   ],
   "source": [
    "X_train, Y_train, X_test, sizes_test  = read_images(IMG_HEIGHT, IMG_WIDTH, IMG_CHANNELS, TRAIN_PATH, TEST_PATH)"
   ]
  },
  {
   "cell_type": "markdown",
   "metadata": {},
   "source": [
    "# Build your model here:"
   ]
  },
  {
   "cell_type": "code",
   "execution_count": 6,
   "metadata": {},
   "outputs": [
    {
     "name": "stdout",
     "output_type": "stream",
     "text": [
      "__________________________________________________________________________________________________\n",
      "Layer (type)                    Output Shape         Param #     Connected to                     \n",
      "==================================================================================================\n",
      "input_1 (InputLayer)            (None, 128, 128, 3)  0                                            \n",
      "__________________________________________________________________________________________________\n",
      "lambda_1 (Lambda)               (None, 128, 128, 3)  0           input_1[0][0]                    \n",
      "__________________________________________________________________________________________________\n",
      "conv2d_1 (Conv2D)               (None, 128, 128, 16) 448         lambda_1[0][0]                   \n",
      "__________________________________________________________________________________________________\n",
      "dropout_1 (Dropout)             (None, 128, 128, 16) 0           conv2d_1[0][0]                   \n",
      "__________________________________________________________________________________________________\n",
      "conv2d_2 (Conv2D)               (None, 128, 128, 16) 2320        dropout_1[0][0]                  \n",
      "__________________________________________________________________________________________________\n",
      "max_pooling2d_1 (MaxPooling2D)  (None, 64, 64, 16)   0           conv2d_2[0][0]                   \n",
      "__________________________________________________________________________________________________\n",
      "conv2d_3 (Conv2D)               (None, 64, 64, 32)   4640        max_pooling2d_1[0][0]            \n",
      "__________________________________________________________________________________________________\n",
      "dropout_2 (Dropout)             (None, 64, 64, 32)   0           conv2d_3[0][0]                   \n",
      "__________________________________________________________________________________________________\n",
      "conv2d_4 (Conv2D)               (None, 64, 64, 32)   9248        dropout_2[0][0]                  \n",
      "__________________________________________________________________________________________________\n",
      "max_pooling2d_2 (MaxPooling2D)  (None, 32, 32, 32)   0           conv2d_4[0][0]                   \n",
      "__________________________________________________________________________________________________\n",
      "conv2d_5 (Conv2D)               (None, 32, 32, 64)   18496       max_pooling2d_2[0][0]            \n",
      "__________________________________________________________________________________________________\n",
      "dropout_3 (Dropout)             (None, 32, 32, 64)   0           conv2d_5[0][0]                   \n",
      "__________________________________________________________________________________________________\n",
      "conv2d_6 (Conv2D)               (None, 32, 32, 64)   36928       dropout_3[0][0]                  \n",
      "__________________________________________________________________________________________________\n",
      "max_pooling2d_3 (MaxPooling2D)  (None, 16, 16, 64)   0           conv2d_6[0][0]                   \n",
      "__________________________________________________________________________________________________\n",
      "conv2d_7 (Conv2D)               (None, 16, 16, 128)  73856       max_pooling2d_3[0][0]            \n",
      "__________________________________________________________________________________________________\n",
      "dropout_4 (Dropout)             (None, 16, 16, 128)  0           conv2d_7[0][0]                   \n",
      "__________________________________________________________________________________________________\n",
      "conv2d_8 (Conv2D)               (None, 16, 16, 128)  147584      dropout_4[0][0]                  \n",
      "__________________________________________________________________________________________________\n",
      "max_pooling2d_4 (MaxPooling2D)  (None, 8, 8, 128)    0           conv2d_8[0][0]                   \n",
      "__________________________________________________________________________________________________\n",
      "conv2d_9 (Conv2D)               (None, 8, 8, 256)    295168      max_pooling2d_4[0][0]            \n",
      "__________________________________________________________________________________________________\n",
      "dropout_5 (Dropout)             (None, 8, 8, 256)    0           conv2d_9[0][0]                   \n",
      "__________________________________________________________________________________________________\n",
      "conv2d_10 (Conv2D)              (None, 8, 8, 256)    590080      dropout_5[0][0]                  \n",
      "__________________________________________________________________________________________________\n",
      "conv2d_transpose_1 (Conv2DTrans (None, 16, 16, 128)  131200      conv2d_10[0][0]                  \n",
      "__________________________________________________________________________________________________\n",
      "concatenate_1 (Concatenate)     (None, 16, 16, 256)  0           conv2d_transpose_1[0][0]         \n",
      "                                                                 conv2d_8[0][0]                   \n",
      "__________________________________________________________________________________________________\n",
      "conv2d_11 (Conv2D)              (None, 16, 16, 128)  295040      concatenate_1[0][0]              \n",
      "__________________________________________________________________________________________________\n",
      "dropout_6 (Dropout)             (None, 16, 16, 128)  0           conv2d_11[0][0]                  \n",
      "__________________________________________________________________________________________________\n",
      "conv2d_12 (Conv2D)              (None, 16, 16, 128)  147584      dropout_6[0][0]                  \n",
      "__________________________________________________________________________________________________\n",
      "conv2d_transpose_2 (Conv2DTrans (None, 32, 32, 64)   32832       conv2d_12[0][0]                  \n",
      "__________________________________________________________________________________________________\n",
      "concatenate_2 (Concatenate)     (None, 32, 32, 128)  0           conv2d_transpose_2[0][0]         \n",
      "                                                                 conv2d_6[0][0]                   \n",
      "__________________________________________________________________________________________________\n",
      "conv2d_13 (Conv2D)              (None, 32, 32, 64)   73792       concatenate_2[0][0]              \n",
      "__________________________________________________________________________________________________\n",
      "dropout_7 (Dropout)             (None, 32, 32, 64)   0           conv2d_13[0][0]                  \n",
      "__________________________________________________________________________________________________\n",
      "conv2d_14 (Conv2D)              (None, 32, 32, 64)   36928       dropout_7[0][0]                  \n",
      "__________________________________________________________________________________________________\n",
      "conv2d_transpose_3 (Conv2DTrans (None, 64, 64, 32)   8224        conv2d_14[0][0]                  \n",
      "__________________________________________________________________________________________________\n",
      "concatenate_3 (Concatenate)     (None, 64, 64, 64)   0           conv2d_transpose_3[0][0]         \n",
      "                                                                 conv2d_4[0][0]                   \n",
      "__________________________________________________________________________________________________\n",
      "conv2d_15 (Conv2D)              (None, 64, 64, 32)   18464       concatenate_3[0][0]              \n",
      "__________________________________________________________________________________________________\n",
      "dropout_8 (Dropout)             (None, 64, 64, 32)   0           conv2d_15[0][0]                  \n",
      "__________________________________________________________________________________________________\n",
      "conv2d_16 (Conv2D)              (None, 64, 64, 32)   9248        dropout_8[0][0]                  \n",
      "__________________________________________________________________________________________________\n",
      "conv2d_transpose_4 (Conv2DTrans (None, 128, 128, 16) 2064        conv2d_16[0][0]                  \n",
      "__________________________________________________________________________________________________\n",
      "concatenate_4 (Concatenate)     (None, 128, 128, 32) 0           conv2d_transpose_4[0][0]         \n",
      "                                                                 conv2d_2[0][0]                   \n",
      "__________________________________________________________________________________________________\n",
      "conv2d_17 (Conv2D)              (None, 128, 128, 16) 4624        concatenate_4[0][0]              \n",
      "__________________________________________________________________________________________________\n",
      "dropout_9 (Dropout)             (None, 128, 128, 16) 0           conv2d_17[0][0]                  \n",
      "__________________________________________________________________________________________________\n",
      "conv2d_18 (Conv2D)              (None, 128, 128, 16) 2320        dropout_9[0][0]                  \n",
      "__________________________________________________________________________________________________\n",
      "conv2d_19 (Conv2D)              (None, 128, 128, 1)  17          conv2d_18[0][0]                  \n",
      "==================================================================================================\n",
      "Total params: 1,941,105\n",
      "Trainable params: 1,941,105\n",
      "Non-trainable params: 0\n",
      "__________________________________________________________________________________________________\n"
     ]
    }
   ],
   "source": [
    "inputs = Input((IMG_HEIGHT, IMG_WIDTH, IMG_CHANNELS))\n",
    "s = Lambda(lambda x: x / 255) (inputs)\n",
    "\n",
    "c1 = Conv2D(16, (3, 3), activation='elu', kernel_initializer='he_normal', padding='same') (s)\n",
    "c1 = Dropout(0.1) (c1)\n",
    "c1 = Conv2D(16, (3, 3), activation='elu', kernel_initializer='he_normal', padding='same') (c1)\n",
    "p1 = MaxPooling2D((2, 2)) (c1)\n",
    "\n",
    "c2 = Conv2D(32, (3, 3), activation='elu', kernel_initializer='he_normal', padding='same') (p1)\n",
    "c2 = Dropout(0.1) (c2)\n",
    "c2 = Conv2D(32, (3, 3), activation='elu', kernel_initializer='he_normal', padding='same') (c2)\n",
    "p2 = MaxPooling2D((2, 2)) (c2)\n",
    "\n",
    "c3 = Conv2D(64, (3, 3), activation='elu', kernel_initializer='he_normal', padding='same') (p2)\n",
    "c3 = Dropout(0.2) (c3)\n",
    "c3 = Conv2D(64, (3, 3), activation='elu', kernel_initializer='he_normal', padding='same') (c3)\n",
    "p3 = MaxPooling2D((2, 2)) (c3)\n",
    "\n",
    "c4 = Conv2D(128, (3, 3), activation='elu', kernel_initializer='he_normal', padding='same') (p3)\n",
    "c4 = Dropout(0.2) (c4)\n",
    "c4 = Conv2D(128, (3, 3), activation='elu', kernel_initializer='he_normal', padding='same') (c4)\n",
    "p4 = MaxPooling2D(pool_size=(2, 2)) (c4)\n",
    "\n",
    "c5 = Conv2D(256, (3, 3), activation='elu', kernel_initializer='he_normal', padding='same') (p4)\n",
    "c5 = Dropout(0.3) (c5)\n",
    "c5 = Conv2D(256, (3, 3), activation='elu', kernel_initializer='he_normal', padding='same') (c5)\n",
    "\n",
    "u6 = Conv2DTranspose(128, (2, 2), strides=(2, 2), padding='same') (c5)\n",
    "u6 = concatenate([u6, c4])\n",
    "c6 = Conv2D(128, (3, 3), activation='elu', kernel_initializer='he_normal', padding='same') (u6)\n",
    "c6 = Dropout(0.2) (c6)\n",
    "c6 = Conv2D(128, (3, 3), activation='elu', kernel_initializer='he_normal', padding='same') (c6)\n",
    "\n",
    "u7 = Conv2DTranspose(64, (2, 2), strides=(2, 2), padding='same') (c6)\n",
    "u7 = concatenate([u7, c3])\n",
    "c7 = Conv2D(64, (3, 3), activation='elu', kernel_initializer='he_normal', padding='same') (u7)\n",
    "c7 = Dropout(0.2) (c7)\n",
    "c7 = Conv2D(64, (3, 3), activation='elu', kernel_initializer='he_normal', padding='same') (c7)\n",
    "\n",
    "u8 = Conv2DTranspose(32, (2, 2), strides=(2, 2), padding='same') (c7)\n",
    "u8 = concatenate([u8, c2])\n",
    "c8 = Conv2D(32, (3, 3), activation='elu', kernel_initializer='he_normal', padding='same') (u8)\n",
    "c8 = Dropout(0.1) (c8)\n",
    "c8 = Conv2D(32, (3, 3), activation='elu', kernel_initializer='he_normal', padding='same') (c8)\n",
    "\n",
    "u9 = Conv2DTranspose(16, (2, 2), strides=(2, 2), padding='same') (c8)\n",
    "u9 = concatenate([u9, c1], axis=3)\n",
    "c9 = Conv2D(16, (3, 3), activation='elu', kernel_initializer='he_normal', padding='same') (u9)\n",
    "c9 = Dropout(0.1) (c9)\n",
    "c9 = Conv2D(16, (3, 3), activation='elu', kernel_initializer='he_normal', padding='same') (c9)\n",
    "\n",
    "outputs = Conv2D(1, (1, 1), activation='sigmoid') (c9)\n",
    "\n",
    "model = Model(inputs=[inputs], outputs=[outputs])\n",
    "model.compile(optimizer='adam', loss='binary_crossentropy', metrics=[mean_iou])\n",
    "model.summary()"
   ]
  },
  {
   "cell_type": "markdown",
   "metadata": {},
   "source": [
    "# Train"
   ]
  },
  {
   "cell_type": "code",
   "execution_count": 7,
   "metadata": {},
   "outputs": [
    {
     "name": "stdout",
     "output_type": "stream",
     "text": [
      "Train on 585 samples, validate on 65 samples\n",
      "Epoch 1/50\n",
      "585/585 [==============================] - 10s 17ms/step - loss: 0.4282 - mean_iou: 0.4176 - val_loss: 0.2699 - val_mean_iou: 0.4371\n",
      "\n",
      "Epoch 00001: val_loss improved from inf to 0.26989, saving model to lalala.h5\n",
      "Epoch 2/50\n",
      "585/585 [==============================] - 7s 11ms/step - loss: 0.2260 - mean_iou: 0.4740 - val_loss: 0.1853 - val_mean_iou: 0.5128\n",
      "\n",
      "Epoch 00002: val_loss improved from 0.26989 to 0.18528, saving model to lalala.h5\n",
      "Epoch 3/50\n",
      "585/585 [==============================] - 6s 11ms/step - loss: 0.1674 - mean_iou: 0.5456 - val_loss: 0.1648 - val_mean_iou: 0.5748\n",
      "\n",
      "Epoch 00003: val_loss improved from 0.18528 to 0.16477, saving model to lalala.h5\n",
      "Epoch 4/50\n",
      "585/585 [==============================] - 7s 11ms/step - loss: 0.1591 - mean_iou: 0.5957 - val_loss: 0.1500 - val_mean_iou: 0.6132\n",
      "\n",
      "Epoch 00004: val_loss improved from 0.16477 to 0.15001, saving model to lalala.h5\n",
      "Epoch 5/50\n",
      "585/585 [==============================] - 7s 11ms/step - loss: 0.1352 - mean_iou: 0.6294 - val_loss: 0.1308 - val_mean_iou: 0.6432\n",
      "\n",
      "Epoch 00005: val_loss improved from 0.15001 to 0.13078, saving model to lalala.h5\n",
      "Epoch 6/50\n",
      "585/585 [==============================] - 6s 11ms/step - loss: 0.1217 - mean_iou: 0.6560 - val_loss: 0.1533 - val_mean_iou: 0.6671\n",
      "\n",
      "Epoch 00006: val_loss did not improve\n",
      "Epoch 7/50\n",
      "585/585 [==============================] - 6s 11ms/step - loss: 0.1173 - mean_iou: 0.6754 - val_loss: 0.1384 - val_mean_iou: 0.6845\n",
      "\n",
      "Epoch 00007: val_loss did not improve\n",
      "Epoch 8/50\n",
      "585/585 [==============================] - 7s 11ms/step - loss: 0.1104 - mean_iou: 0.6923 - val_loss: 0.1159 - val_mean_iou: 0.6993\n",
      "\n",
      "Epoch 00008: val_loss improved from 0.13078 to 0.11590, saving model to lalala.h5\n",
      "Epoch 9/50\n",
      "585/585 [==============================] - 7s 11ms/step - loss: 0.1123 - mean_iou: 0.7054 - val_loss: 0.1232 - val_mean_iou: 0.7113\n",
      "\n",
      "Epoch 00009: val_loss did not improve\n",
      "Epoch 10/50\n",
      "585/585 [==============================] - 7s 11ms/step - loss: 0.1078 - mean_iou: 0.7160 - val_loss: 0.1058 - val_mean_iou: 0.7210\n",
      "\n",
      "Epoch 00010: val_loss improved from 0.11590 to 0.10580, saving model to lalala.h5\n",
      "Epoch 11/50\n",
      "585/585 [==============================] - 7s 11ms/step - loss: 0.0993 - mean_iou: 0.7258 - val_loss: 0.1091 - val_mean_iou: 0.7304\n",
      "\n",
      "Epoch 00011: val_loss did not improve\n",
      "Epoch 12/50\n",
      "585/585 [==============================] - 7s 11ms/step - loss: 0.0923 - mean_iou: 0.7350 - val_loss: 0.1016 - val_mean_iou: 0.7390\n",
      "\n",
      "Epoch 00012: val_loss improved from 0.10580 to 0.10157, saving model to lalala.h5\n",
      "Epoch 13/50\n",
      "585/585 [==============================] - 7s 11ms/step - loss: 0.0913 - mean_iou: 0.7430 - val_loss: 0.1059 - val_mean_iou: 0.7466\n",
      "\n",
      "Epoch 00013: val_loss did not improve\n",
      "Epoch 14/50\n",
      "585/585 [==============================] - 6s 11ms/step - loss: 0.0882 - mean_iou: 0.7500 - val_loss: 0.0964 - val_mean_iou: 0.7533\n",
      "\n",
      "Epoch 00014: val_loss improved from 0.10157 to 0.09636, saving model to lalala.h5\n",
      "Epoch 15/50\n",
      "585/585 [==============================] - 7s 11ms/step - loss: 0.0904 - mean_iou: 0.7563 - val_loss: 0.0961 - val_mean_iou: 0.7591\n",
      "\n",
      "Epoch 00015: val_loss improved from 0.09636 to 0.09611, saving model to lalala.h5\n",
      "Epoch 16/50\n",
      "585/585 [==============================] - 7s 11ms/step - loss: 0.0846 - mean_iou: 0.7620 - val_loss: 0.0986 - val_mean_iou: 0.7646\n",
      "\n",
      "Epoch 00016: val_loss did not improve\n",
      "Epoch 17/50\n",
      "585/585 [==============================] - 7s 11ms/step - loss: 0.0830 - mean_iou: 0.7672 - val_loss: 0.0918 - val_mean_iou: 0.7697\n",
      "\n",
      "Epoch 00017: val_loss improved from 0.09611 to 0.09183, saving model to lalala.h5\n",
      "Epoch 18/50\n",
      "585/585 [==============================] - 7s 11ms/step - loss: 0.0804 - mean_iou: 0.7720 - val_loss: 0.0866 - val_mean_iou: 0.7744\n",
      "\n",
      "Epoch 00018: val_loss improved from 0.09183 to 0.08664, saving model to lalala.h5\n",
      "Epoch 19/50\n",
      "585/585 [==============================] - 7s 11ms/step - loss: 0.0813 - mean_iou: 0.7765 - val_loss: 0.0922 - val_mean_iou: 0.7785\n",
      "\n",
      "Epoch 00019: val_loss did not improve\n",
      "Epoch 20/50\n",
      "585/585 [==============================] - 6s 11ms/step - loss: 0.0791 - mean_iou: 0.7805 - val_loss: 0.0903 - val_mean_iou: 0.7823\n",
      "\n",
      "Epoch 00020: val_loss did not improve\n",
      "Epoch 21/50\n",
      "585/585 [==============================] - 6s 11ms/step - loss: 0.0771 - mean_iou: 0.7840 - val_loss: 0.0887 - val_mean_iou: 0.7858\n",
      "\n",
      "Epoch 00021: val_loss did not improve\n",
      "Epoch 22/50\n",
      "585/585 [==============================] - 7s 11ms/step - loss: 0.0768 - mean_iou: 0.7874 - val_loss: 0.0842 - val_mean_iou: 0.7890\n",
      "\n",
      "Epoch 00022: val_loss improved from 0.08664 to 0.08425, saving model to lalala.h5\n",
      "Epoch 23/50\n",
      "585/585 [==============================] - 7s 11ms/step - loss: 0.0746 - mean_iou: 0.7907 - val_loss: 0.0822 - val_mean_iou: 0.7921\n",
      "\n",
      "Epoch 00023: val_loss improved from 0.08425 to 0.08220, saving model to lalala.h5\n",
      "Epoch 24/50\n",
      "585/585 [==============================] - 7s 11ms/step - loss: 0.0751 - mean_iou: 0.7935 - val_loss: 0.0889 - val_mean_iou: 0.7949\n",
      "\n",
      "Epoch 00024: val_loss did not improve\n",
      "Epoch 25/50\n",
      "585/585 [==============================] - 7s 11ms/step - loss: 0.0743 - mean_iou: 0.7961 - val_loss: 0.0864 - val_mean_iou: 0.7975\n",
      "\n",
      "Epoch 00025: val_loss did not improve\n",
      "Epoch 26/50\n",
      "585/585 [==============================] - 6s 11ms/step - loss: 0.0734 - mean_iou: 0.7988 - val_loss: 0.0785 - val_mean_iou: 0.8001\n",
      "\n",
      "Epoch 00026: val_loss improved from 0.08220 to 0.07850, saving model to lalala.h5\n",
      "Epoch 27/50\n",
      "585/585 [==============================] - 7s 11ms/step - loss: 0.0726 - mean_iou: 0.8013 - val_loss: 0.0909 - val_mean_iou: 0.8024\n",
      "\n",
      "Epoch 00027: val_loss did not improve\n",
      "Epoch 28/50\n",
      "585/585 [==============================] - 7s 11ms/step - loss: 0.0767 - mean_iou: 0.8034 - val_loss: 0.0821 - val_mean_iou: 0.8044\n",
      "\n",
      "Epoch 00028: val_loss did not improve\n",
      "Epoch 29/50\n",
      "585/585 [==============================] - 7s 11ms/step - loss: 0.0750 - mean_iou: 0.8053 - val_loss: 0.0832 - val_mean_iou: 0.8063\n",
      "\n",
      "Epoch 00029: val_loss did not improve\n",
      "Epoch 30/50\n",
      "585/585 [==============================] - 7s 11ms/step - loss: 0.0712 - mean_iou: 0.8073 - val_loss: 0.0798 - val_mean_iou: 0.8083\n",
      "\n",
      "Epoch 00030: val_loss did not improve\n",
      "Epoch 31/50\n",
      "585/585 [==============================] - 7s 11ms/step - loss: 0.0726 - mean_iou: 0.8092 - val_loss: 0.0787 - val_mean_iou: 0.8101\n",
      "\n",
      "Epoch 00031: val_loss did not improve\n",
      "Epoch 00031: early stopping\n",
      "Training time... 3.5538347204526266\n"
     ]
    }
   ],
   "source": [
    "tic = time.time()\n",
    "model_name = 'lalala' \n",
    "model_name = model_name + '.h5'\n",
    "earlystopper = EarlyStopping(patience=5, verbose=1)\n",
    "checkpointer = ModelCheckpoint(model_name, verbose=1, save_best_only=True)\n",
    "results = model.fit(X_train, Y_train, validation_split=0.1, batch_size=16, epochs=50, \n",
    "                    callbacks=[earlystopper, checkpointer])\n",
    "\n",
    "toc = time.time() - tic\n",
    "print('Training time...', toc/60)"
   ]
  },
  {
   "cell_type": "markdown",
   "metadata": {},
   "source": [
    "# Predict"
   ]
  },
  {
   "cell_type": "code",
   "execution_count": 8,
   "metadata": {},
   "outputs": [
    {
     "name": "stdout",
     "output_type": "stream",
     "text": [
      "585/585 [==============================] - 2s 3ms/step\n",
      "65/65 [==============================] - 0s 2ms/step\n",
      "65/65 [==============================] - 0s 2ms/step\n"
     ]
    }
   ],
   "source": [
    "preds_test_upsampled = predict_results(model_name, X_train, X_test, sizes_test)"
   ]
  },
  {
   "cell_type": "markdown",
   "metadata": {},
   "source": [
    "# Create a submission file"
   ]
  },
  {
   "cell_type": "code",
   "execution_count": 9,
   "metadata": {},
   "outputs": [],
   "source": [
    "filename = 'lalalala'\n",
    "test_ids = os.listdir(TEST_PATH)\n",
    "sub = create_submission_file(preds_test_upsampled, test_ids, filename)"
   ]
  },
  {
   "cell_type": "code",
   "execution_count": 10,
   "metadata": {},
   "outputs": [
    {
     "data": {
      "text/html": [
       "<div>\n",
       "<style scoped>\n",
       "    .dataframe tbody tr th:only-of-type {\n",
       "        vertical-align: middle;\n",
       "    }\n",
       "\n",
       "    .dataframe tbody tr th {\n",
       "        vertical-align: top;\n",
       "    }\n",
       "\n",
       "    .dataframe thead th {\n",
       "        text-align: right;\n",
       "    }\n",
       "</style>\n",
       "<table border=\"1\" class=\"dataframe\">\n",
       "  <thead>\n",
       "    <tr style=\"text-align: right;\">\n",
       "      <th></th>\n",
       "      <th>ImageId</th>\n",
       "      <th>EncodedPixels</th>\n",
       "    </tr>\n",
       "  </thead>\n",
       "  <tbody>\n",
       "    <tr>\n",
       "      <th>0</th>\n",
       "      <td>0999dab07b11bc85fb8464fc36c947fbd8b5d6ec498173...</td>\n",
       "      <td>50346 1 50864 4 51383 6 51902 7 51919 6 52421 ...</td>\n",
       "    </tr>\n",
       "    <tr>\n",
       "      <th>1</th>\n",
       "      <td>0999dab07b11bc85fb8464fc36c947fbd8b5d6ec498173...</td>\n",
       "      <td>121968 1 122486 3 123005 3 123524 4 124043 5 1...</td>\n",
       "    </tr>\n",
       "    <tr>\n",
       "      <th>2</th>\n",
       "      <td>0999dab07b11bc85fb8464fc36c947fbd8b5d6ec498173...</td>\n",
       "      <td>24416 8 24933 13 25450 17 25967 20 26485 21 27...</td>\n",
       "    </tr>\n",
       "    <tr>\n",
       "      <th>3</th>\n",
       "      <td>0999dab07b11bc85fb8464fc36c947fbd8b5d6ec498173...</td>\n",
       "      <td>118366 4 118883 8 119401 10 119919 12 120438 1...</td>\n",
       "    </tr>\n",
       "    <tr>\n",
       "      <th>4</th>\n",
       "      <td>0999dab07b11bc85fb8464fc36c947fbd8b5d6ec498173...</td>\n",
       "      <td>6279 1 6796 7 7313 12 7831 14 8349 16 8868 17 ...</td>\n",
       "    </tr>\n",
       "  </tbody>\n",
       "</table>\n",
       "</div>"
      ],
      "text/plain": [
       "                                             ImageId  \\\n",
       "0  0999dab07b11bc85fb8464fc36c947fbd8b5d6ec498173...   \n",
       "1  0999dab07b11bc85fb8464fc36c947fbd8b5d6ec498173...   \n",
       "2  0999dab07b11bc85fb8464fc36c947fbd8b5d6ec498173...   \n",
       "3  0999dab07b11bc85fb8464fc36c947fbd8b5d6ec498173...   \n",
       "4  0999dab07b11bc85fb8464fc36c947fbd8b5d6ec498173...   \n",
       "\n",
       "                                       EncodedPixels  \n",
       "0  50346 1 50864 4 51383 6 51902 7 51919 6 52421 ...  \n",
       "1  121968 1 122486 3 123005 3 123524 4 124043 5 1...  \n",
       "2  24416 8 24933 13 25450 17 25967 20 26485 21 27...  \n",
       "3  118366 4 118883 8 119401 10 119919 12 120438 1...  \n",
       "4  6279 1 6796 7 7313 12 7831 14 8349 16 8868 17 ...  "
      ]
     },
     "execution_count": 10,
     "metadata": {},
     "output_type": "execute_result"
    }
   ],
   "source": [
    "sub.head()"
   ]
  },
  {
   "cell_type": "code",
   "execution_count": 11,
   "metadata": {},
   "outputs": [
    {
     "name": "stdout",
     "output_type": "stream",
     "text": [
      "Total runtime... 5.365939307212829\n"
     ]
    }
   ],
   "source": [
    "print('Total runtime...', (time.time() - main_tic)/60)"
   ]
  }
 ],
 "metadata": {
  "kernelspec": {
   "display_name": "Python 3",
   "language": "python",
   "name": "python3"
  },
  "language_info": {
   "codemirror_mode": {
    "name": "ipython",
    "version": 3
   },
   "file_extension": ".py",
   "mimetype": "text/x-python",
   "name": "python",
   "nbconvert_exporter": "python",
   "pygments_lexer": "ipython3",
   "version": "3.5.2"
  }
 },
 "nbformat": 4,
 "nbformat_minor": 2
}
