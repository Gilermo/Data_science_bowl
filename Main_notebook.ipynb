{
 "cells": [
  {
   "cell_type": "markdown",
   "metadata": {},
   "source": [
    "# Project Imports"
   ]
  },
  {
   "cell_type": "code",
   "execution_count": 1,
   "metadata": {},
   "outputs": [
    {
     "name": "stderr",
     "output_type": "stream",
     "text": [
      "/home/omri/my_gpu/.env/lib/python3.5/site-packages/h5py/__init__.py:36: FutureWarning: Conversion of the second argument of issubdtype from `float` to `np.floating` is deprecated. In future, it will be treated as `np.float64 == np.dtype(float).type`.\n",
      "  from ._conv import register_converters as _register_converters\n",
      "Using TensorFlow backend.\n"
     ]
    }
   ],
   "source": [
    "from project_utils import config_paths\n",
    "config_paths('omri', 'my_env') # Change to your name and your environment folder!\n",
    "from models import Unet"
   ]
  },
  {
   "cell_type": "code",
   "execution_count": 2,
   "metadata": {},
   "outputs": [],
   "source": [
    "from project_utils import config_paths\n",
    "config_paths('omri', 'my_env') # Change to your name and your environment folder!\n",
    "from project_utils import read_images, mean_iou, rle_encoding, prob_to_rles, predict_results, create_submission_file\n",
    "from skimage.transform import resize\n",
    "from skimage.morphology import label\n",
    "from keras.callbacks import EarlyStopping, ModelCheckpoint\n",
    "from keras.preprocessing.image import ImageDataGenerator\n",
    "from sklearn.model_selection import train_test_split\n",
    "\n",
    "import os\n",
    "import numpy as np\n",
    "import pandas as pd\n",
    "from tqdm import tqdm\n",
    "import time"
   ]
  },
  {
   "cell_type": "code",
   "execution_count": 3,
   "metadata": {},
   "outputs": [],
   "source": [
    "main_tic = time.time()"
   ]
  },
  {
   "cell_type": "markdown",
   "metadata": {},
   "source": [
    "# Constants"
   ]
  },
  {
   "cell_type": "code",
   "execution_count": 4,
   "metadata": {},
   "outputs": [],
   "source": [
    "TRAIN_PATH = r'../../stage1_train/'\n",
    "TEST_PATH = '../../stage1_test/'\n",
    "IMG_WIDTH = 128\n",
    "IMG_HEIGHT = 128\n",
    "IMG_CHANNELS = 3"
   ]
  },
  {
   "cell_type": "markdown",
   "metadata": {},
   "source": [
    "# Read the data"
   ]
  },
  {
   "cell_type": "code",
   "execution_count": 5,
   "metadata": {},
   "outputs": [
    {
     "name": "stdout",
     "output_type": "stream",
     "text": [
      "Getting and resizing train images and masks ... \n"
     ]
    },
    {
     "name": "stderr",
     "output_type": "stream",
     "text": [
      "100%|██████████| 650/650 [01:21<00:00,  7.94it/s]"
     ]
    },
    {
     "name": "stdout",
     "output_type": "stream",
     "text": [
      "Getting and resizing test images ... \n"
     ]
    },
    {
     "name": "stderr",
     "output_type": "stream",
     "text": [
      "\n",
      "100%|██████████| 65/65 [00:00<00:00, 96.76it/s] "
     ]
    },
    {
     "name": "stdout",
     "output_type": "stream",
     "text": [
      "Done!\n"
     ]
    },
    {
     "name": "stderr",
     "output_type": "stream",
     "text": [
      "\n"
     ]
    }
   ],
   "source": [
    "X_train, Y_train, X_test, sizes_test  = read_images(IMG_HEIGHT, IMG_WIDTH, IMG_CHANNELS, TRAIN_PATH, TEST_PATH)"
   ]
  },
  {
   "cell_type": "markdown",
   "metadata": {},
   "source": [
    "# Import/Build your model here:"
   ]
  },
  {
   "cell_type": "code",
   "execution_count": 42,
   "metadata": {},
   "outputs": [
    {
     "name": "stdout",
     "output_type": "stream",
     "text": [
      "__________________________________________________________________________________________________\n",
      "Layer (type)                    Output Shape         Param #     Connected to                     \n",
      "==================================================================================================\n",
      "input_4 (InputLayer)            (None, 128, 128, 3)  0                                            \n",
      "__________________________________________________________________________________________________\n",
      "lambda_4 (Lambda)               (None, 128, 128, 3)  0           input_4[0][0]                    \n",
      "__________________________________________________________________________________________________\n",
      "conv2d_58 (Conv2D)              (None, 128, 128, 16) 448         lambda_4[0][0]                   \n",
      "__________________________________________________________________________________________________\n",
      "dropout_28 (Dropout)            (None, 128, 128, 16) 0           conv2d_58[0][0]                  \n",
      "__________________________________________________________________________________________________\n",
      "conv2d_59 (Conv2D)              (None, 128, 128, 16) 2320        dropout_28[0][0]                 \n",
      "__________________________________________________________________________________________________\n",
      "max_pooling2d_13 (MaxPooling2D) (None, 64, 64, 16)   0           conv2d_59[0][0]                  \n",
      "__________________________________________________________________________________________________\n",
      "conv2d_60 (Conv2D)              (None, 64, 64, 32)   4640        max_pooling2d_13[0][0]           \n",
      "__________________________________________________________________________________________________\n",
      "dropout_29 (Dropout)            (None, 64, 64, 32)   0           conv2d_60[0][0]                  \n",
      "__________________________________________________________________________________________________\n",
      "conv2d_61 (Conv2D)              (None, 64, 64, 32)   9248        dropout_29[0][0]                 \n",
      "__________________________________________________________________________________________________\n",
      "max_pooling2d_14 (MaxPooling2D) (None, 32, 32, 32)   0           conv2d_61[0][0]                  \n",
      "__________________________________________________________________________________________________\n",
      "conv2d_62 (Conv2D)              (None, 32, 32, 64)   18496       max_pooling2d_14[0][0]           \n",
      "__________________________________________________________________________________________________\n",
      "dropout_30 (Dropout)            (None, 32, 32, 64)   0           conv2d_62[0][0]                  \n",
      "__________________________________________________________________________________________________\n",
      "conv2d_63 (Conv2D)              (None, 32, 32, 64)   36928       dropout_30[0][0]                 \n",
      "__________________________________________________________________________________________________\n",
      "max_pooling2d_15 (MaxPooling2D) (None, 16, 16, 64)   0           conv2d_63[0][0]                  \n",
      "__________________________________________________________________________________________________\n",
      "conv2d_64 (Conv2D)              (None, 16, 16, 128)  73856       max_pooling2d_15[0][0]           \n",
      "__________________________________________________________________________________________________\n",
      "dropout_31 (Dropout)            (None, 16, 16, 128)  0           conv2d_64[0][0]                  \n",
      "__________________________________________________________________________________________________\n",
      "conv2d_65 (Conv2D)              (None, 16, 16, 128)  147584      dropout_31[0][0]                 \n",
      "__________________________________________________________________________________________________\n",
      "max_pooling2d_16 (MaxPooling2D) (None, 8, 8, 128)    0           conv2d_65[0][0]                  \n",
      "__________________________________________________________________________________________________\n",
      "conv2d_66 (Conv2D)              (None, 8, 8, 256)    295168      max_pooling2d_16[0][0]           \n",
      "__________________________________________________________________________________________________\n",
      "dropout_32 (Dropout)            (None, 8, 8, 256)    0           conv2d_66[0][0]                  \n",
      "__________________________________________________________________________________________________\n",
      "conv2d_67 (Conv2D)              (None, 8, 8, 256)    590080      dropout_32[0][0]                 \n",
      "__________________________________________________________________________________________________\n",
      "conv2d_transpose_13 (Conv2DTran (None, 16, 16, 128)  131200      conv2d_67[0][0]                  \n",
      "__________________________________________________________________________________________________\n",
      "concatenate_13 (Concatenate)    (None, 16, 16, 256)  0           conv2d_transpose_13[0][0]        \n",
      "                                                                 conv2d_65[0][0]                  \n",
      "__________________________________________________________________________________________________\n",
      "conv2d_68 (Conv2D)              (None, 16, 16, 128)  295040      concatenate_13[0][0]             \n",
      "__________________________________________________________________________________________________\n",
      "dropout_33 (Dropout)            (None, 16, 16, 128)  0           conv2d_68[0][0]                  \n",
      "__________________________________________________________________________________________________\n",
      "conv2d_69 (Conv2D)              (None, 16, 16, 128)  147584      dropout_33[0][0]                 \n",
      "__________________________________________________________________________________________________\n",
      "conv2d_transpose_14 (Conv2DTran (None, 32, 32, 64)   32832       conv2d_69[0][0]                  \n",
      "__________________________________________________________________________________________________\n",
      "concatenate_14 (Concatenate)    (None, 32, 32, 128)  0           conv2d_transpose_14[0][0]        \n",
      "                                                                 conv2d_63[0][0]                  \n",
      "__________________________________________________________________________________________________\n",
      "conv2d_70 (Conv2D)              (None, 32, 32, 64)   73792       concatenate_14[0][0]             \n",
      "__________________________________________________________________________________________________\n",
      "dropout_34 (Dropout)            (None, 32, 32, 64)   0           conv2d_70[0][0]                  \n",
      "__________________________________________________________________________________________________\n",
      "conv2d_71 (Conv2D)              (None, 32, 32, 64)   36928       dropout_34[0][0]                 \n",
      "__________________________________________________________________________________________________\n",
      "conv2d_transpose_15 (Conv2DTran (None, 64, 64, 32)   8224        conv2d_71[0][0]                  \n",
      "__________________________________________________________________________________________________\n",
      "concatenate_15 (Concatenate)    (None, 64, 64, 64)   0           conv2d_transpose_15[0][0]        \n",
      "                                                                 conv2d_61[0][0]                  \n",
      "__________________________________________________________________________________________________\n",
      "conv2d_72 (Conv2D)              (None, 64, 64, 32)   18464       concatenate_15[0][0]             \n",
      "__________________________________________________________________________________________________\n",
      "dropout_35 (Dropout)            (None, 64, 64, 32)   0           conv2d_72[0][0]                  \n",
      "__________________________________________________________________________________________________\n",
      "conv2d_73 (Conv2D)              (None, 64, 64, 32)   9248        dropout_35[0][0]                 \n",
      "__________________________________________________________________________________________________\n",
      "conv2d_transpose_16 (Conv2DTran (None, 128, 128, 16) 2064        conv2d_73[0][0]                  \n",
      "__________________________________________________________________________________________________\n",
      "concatenate_16 (Concatenate)    (None, 128, 128, 32) 0           conv2d_transpose_16[0][0]        \n",
      "                                                                 conv2d_59[0][0]                  \n",
      "__________________________________________________________________________________________________\n",
      "conv2d_74 (Conv2D)              (None, 128, 128, 16) 4624        concatenate_16[0][0]             \n",
      "__________________________________________________________________________________________________\n",
      "dropout_36 (Dropout)            (None, 128, 128, 16) 0           conv2d_74[0][0]                  \n",
      "__________________________________________________________________________________________________\n",
      "conv2d_75 (Conv2D)              (None, 128, 128, 16) 2320        dropout_36[0][0]                 \n",
      "__________________________________________________________________________________________________\n",
      "conv2d_76 (Conv2D)              (None, 128, 128, 1)  17          conv2d_75[0][0]                  \n",
      "==================================================================================================\n",
      "Total params: 1,941,105\n",
      "Trainable params: 1,941,105\n",
      "Non-trainable params: 0\n",
      "__________________________________________________________________________________________________\n"
     ]
    }
   ],
   "source": [
    "model = Unet.unet(mean_iou, IMG_WIDTH, IMG_HEIGHT, IMG_CHANNELS)"
   ]
  },
  {
   "cell_type": "markdown",
   "metadata": {},
   "source": [
    "# Augment"
   ]
  },
  {
   "cell_type": "code",
   "execution_count": 29,
   "metadata": {},
   "outputs": [],
   "source": [
    "datagen = ImageDataGenerator(\n",
    "    featurewise_center=False,\n",
    "    featurewise_std_normalization=False,\n",
    "    rotation_range=10,\n",
    "    width_shift_range=0.05,\n",
    "    height_shift_range=0.05,\n",
    "    horizontal_flip=False)"
   ]
  },
  {
   "cell_type": "code",
   "execution_count": 30,
   "metadata": {},
   "outputs": [],
   "source": [
    "X_train, X_val, Y_train, Y_val = train_test_split(X_train, Y_train, test_size=0.2, random_state=42)"
   ]
  },
  {
   "cell_type": "code",
   "execution_count": 31,
   "metadata": {},
   "outputs": [
    {
     "name": "stdout",
     "output_type": "stream",
     "text": [
      "Epoch 1/50\n",
      "13/13 [==============================] - 6s 471ms/step - loss: 0.5305 - mean_iou: 0.3805 - val_loss: 0.4541 - val_mean_iou: 0.4245\n",
      "Epoch 2/50\n",
      "13/13 [==============================] - 3s 193ms/step - loss: 0.4711 - mean_iou: 0.4257 - val_loss: 0.3979 - val_mean_iou: 0.4281\n",
      "Epoch 3/50\n",
      "13/13 [==============================] - 3s 195ms/step - loss: 0.4022 - mean_iou: 0.4274 - val_loss: 0.3686 - val_mean_iou: 0.4286\n",
      "Epoch 4/50\n",
      "13/13 [==============================] - 3s 197ms/step - loss: 0.3709 - mean_iou: 0.4298 - val_loss: 0.3344 - val_mean_iou: 0.4320\n",
      "Epoch 5/50\n",
      "13/13 [==============================] - 3s 195ms/step - loss: 0.3663 - mean_iou: 0.4335 - val_loss: 0.3105 - val_mean_iou: 0.4346\n",
      "Epoch 6/50\n",
      "13/13 [==============================] - 3s 194ms/step - loss: 0.3461 - mean_iou: 0.4350 - val_loss: 0.2965 - val_mean_iou: 0.4361\n",
      "Epoch 7/50\n",
      "13/13 [==============================] - 3s 195ms/step - loss: 0.3475 - mean_iou: 0.4361 - val_loss: 0.2831 - val_mean_iou: 0.4367\n",
      "Epoch 8/50\n",
      "13/13 [==============================] - 3s 197ms/step - loss: 0.3485 - mean_iou: 0.4370 - val_loss: 0.2913 - val_mean_iou: 0.4374\n",
      "Epoch 9/50\n",
      "13/13 [==============================] - 3s 193ms/step - loss: 0.3226 - mean_iou: 0.4376 - val_loss: 0.2808 - val_mean_iou: 0.4381\n",
      "Epoch 10/50\n",
      "13/13 [==============================] - 3s 194ms/step - loss: 0.3343 - mean_iou: 0.4389 - val_loss: 0.2714 - val_mean_iou: 0.4399\n",
      "Epoch 11/50\n",
      "13/13 [==============================] - 3s 192ms/step - loss: 0.3071 - mean_iou: 0.4408 - val_loss: 0.2617 - val_mean_iou: 0.4412\n",
      "Epoch 12/50\n",
      "13/13 [==============================] - 3s 196ms/step - loss: 0.3429 - mean_iou: 0.4421 - val_loss: 0.2641 - val_mean_iou: 0.4424\n",
      "Epoch 13/50\n",
      "13/13 [==============================] - 3s 196ms/step - loss: 0.3209 - mean_iou: 0.4426 - val_loss: 0.2647 - val_mean_iou: 0.4431\n",
      "Epoch 14/50\n",
      "13/13 [==============================] - 3s 194ms/step - loss: 0.3186 - mean_iou: 0.4435 - val_loss: 0.2655 - val_mean_iou: 0.4440\n",
      "Epoch 15/50\n",
      "13/13 [==============================] - 3s 196ms/step - loss: 0.3257 - mean_iou: 0.4444 - val_loss: 0.2595 - val_mean_iou: 0.4452\n",
      "Epoch 16/50\n",
      "13/13 [==============================] - 3s 196ms/step - loss: 0.3042 - mean_iou: 0.4460 - val_loss: 0.2601 - val_mean_iou: 0.4468\n",
      "Epoch 17/50\n",
      "13/13 [==============================] - 3s 195ms/step - loss: 0.3145 - mean_iou: 0.4479 - val_loss: 0.2675 - val_mean_iou: 0.4488\n",
      "Epoch 18/50\n",
      "13/13 [==============================] - 3s 199ms/step - loss: 0.3160 - mean_iou: 0.4496 - val_loss: 0.2822 - val_mean_iou: 0.4504\n",
      "Epoch 19/50\n",
      "13/13 [==============================] - 3s 197ms/step - loss: 0.3159 - mean_iou: 0.4514 - val_loss: 0.2540 - val_mean_iou: 0.4517\n",
      "Epoch 20/50\n",
      "13/13 [==============================] - 3s 196ms/step - loss: 0.3217 - mean_iou: 0.4520 - val_loss: 0.2511 - val_mean_iou: 0.4524\n",
      "Epoch 21/50\n",
      "13/13 [==============================] - 3s 199ms/step - loss: 0.3045 - mean_iou: 0.4530 - val_loss: 0.2644 - val_mean_iou: 0.4534\n",
      "Epoch 22/50\n",
      "13/13 [==============================] - 3s 198ms/step - loss: 0.3279 - mean_iou: 0.4538 - val_loss: 0.2517 - val_mean_iou: 0.4542\n",
      "Epoch 23/50\n",
      "13/13 [==============================] - 3s 195ms/step - loss: 0.2993 - mean_iou: 0.4547 - val_loss: 0.2572 - val_mean_iou: 0.4552\n",
      "Epoch 24/50\n",
      "13/13 [==============================] - 3s 196ms/step - loss: 0.3246 - mean_iou: 0.4557 - val_loss: 0.2603 - val_mean_iou: 0.4561\n",
      "Epoch 25/50\n",
      "13/13 [==============================] - 3s 195ms/step - loss: 0.3105 - mean_iou: 0.4567 - val_loss: 0.2517 - val_mean_iou: 0.4572\n",
      "Epoch 26/50\n",
      "13/13 [==============================] - 3s 198ms/step - loss: 0.3160 - mean_iou: 0.4575 - val_loss: 0.2554 - val_mean_iou: 0.4579\n",
      "Epoch 27/50\n",
      "13/13 [==============================] - 3s 194ms/step - loss: 0.2941 - mean_iou: 0.4583 - val_loss: 0.2523 - val_mean_iou: 0.4588\n",
      "Epoch 28/50\n",
      "13/13 [==============================] - 3s 195ms/step - loss: 0.3231 - mean_iou: 0.4595 - val_loss: 0.2663 - val_mean_iou: 0.4597\n",
      "Epoch 29/50\n",
      "13/13 [==============================] - 3s 194ms/step - loss: 0.3106 - mean_iou: 0.4597 - val_loss: 0.2594 - val_mean_iou: 0.4600\n",
      "Epoch 30/50\n",
      "13/13 [==============================] - 3s 194ms/step - loss: 0.3107 - mean_iou: 0.4603 - val_loss: 0.2646 - val_mean_iou: 0.4605\n",
      "Epoch 31/50\n",
      "13/13 [==============================] - 3s 196ms/step - loss: 0.3085 - mean_iou: 0.4609 - val_loss: 0.2651 - val_mean_iou: 0.4612\n",
      "Epoch 32/50\n",
      "13/13 [==============================] - 3s 197ms/step - loss: 0.3189 - mean_iou: 0.4615 - val_loss: 0.2657 - val_mean_iou: 0.4616\n",
      "Epoch 33/50\n",
      "13/13 [==============================] - 3s 196ms/step - loss: 0.3239 - mean_iou: 0.4618 - val_loss: 0.2596 - val_mean_iou: 0.4620\n",
      "Epoch 34/50\n",
      "13/13 [==============================] - 3s 194ms/step - loss: 0.2965 - mean_iou: 0.4623 - val_loss: 0.2599 - val_mean_iou: 0.4626\n",
      "Epoch 35/50\n",
      "13/13 [==============================] - 3s 198ms/step - loss: 0.2951 - mean_iou: 0.4630 - val_loss: 0.2553 - val_mean_iou: 0.4632\n",
      "Epoch 36/50\n",
      "13/13 [==============================] - 3s 196ms/step - loss: 0.3196 - mean_iou: 0.4635 - val_loss: 0.2593 - val_mean_iou: 0.4638\n",
      "Epoch 37/50\n",
      "13/13 [==============================] - 3s 197ms/step - loss: 0.3181 - mean_iou: 0.4640 - val_loss: 0.2692 - val_mean_iou: 0.4643\n",
      "Epoch 38/50\n",
      "13/13 [==============================] - 3s 196ms/step - loss: 0.2938 - mean_iou: 0.4648 - val_loss: 0.2587 - val_mean_iou: 0.4649\n",
      "Epoch 39/50\n",
      "13/13 [==============================] - 3s 197ms/step - loss: 0.3069 - mean_iou: 0.4649 - val_loss: 0.2582 - val_mean_iou: 0.4650\n",
      "Epoch 40/50\n",
      "13/13 [==============================] - 3s 199ms/step - loss: 0.3031 - mean_iou: 0.4654 - val_loss: 0.2491 - val_mean_iou: 0.4657\n",
      "Epoch 41/50\n",
      "13/13 [==============================] - 3s 196ms/step - loss: 0.2969 - mean_iou: 0.4659 - val_loss: 0.2623 - val_mean_iou: 0.4661\n",
      "Epoch 42/50\n",
      "13/13 [==============================] - 3s 198ms/step - loss: 0.3169 - mean_iou: 0.4665 - val_loss: 0.2613 - val_mean_iou: 0.4665\n",
      "Epoch 43/50\n",
      "13/13 [==============================] - 3s 199ms/step - loss: 0.3010 - mean_iou: 0.4666 - val_loss: 0.2597 - val_mean_iou: 0.4670\n",
      "Epoch 44/50\n",
      "13/13 [==============================] - 3s 197ms/step - loss: 0.3182 - mean_iou: 0.4673 - val_loss: 0.2572 - val_mean_iou: 0.4672\n",
      "Epoch 45/50\n",
      "13/13 [==============================] - 3s 195ms/step - loss: 0.2960 - mean_iou: 0.4673 - val_loss: 0.2459 - val_mean_iou: 0.4675\n",
      "Epoch 46/50\n",
      "13/13 [==============================] - 3s 197ms/step - loss: 0.3115 - mean_iou: 0.4675 - val_loss: 0.2502 - val_mean_iou: 0.4677\n",
      "Epoch 47/50\n",
      "13/13 [==============================] - 3s 196ms/step - loss: 0.2988 - mean_iou: 0.4679 - val_loss: 0.2383 - val_mean_iou: 0.4681\n",
      "Epoch 48/50\n",
      "13/13 [==============================] - 3s 194ms/step - loss: 0.3044 - mean_iou: 0.4684 - val_loss: 0.2557 - val_mean_iou: 0.4686\n",
      "Epoch 49/50\n",
      "13/13 [==============================] - 3s 197ms/step - loss: 0.3106 - mean_iou: 0.4687 - val_loss: 0.2541 - val_mean_iou: 0.4688\n",
      "Epoch 50/50\n",
      "13/13 [==============================] - 3s 196ms/step - loss: 0.2999 - mean_iou: 0.4689 - val_loss: 0.2476 - val_mean_iou: 0.4691\n"
     ]
    },
    {
     "data": {
      "text/plain": [
       "<keras.callbacks.History at 0x7f273dc7edd8>"
      ]
     },
     "execution_count": 31,
     "metadata": {},
     "output_type": "execute_result"
    }
   ],
   "source": [
    "model.fit_generator(datagen.flow(X_train, Y_train, batch_size=16),\n",
    "                    steps_per_epoch=len(X_train) / 32, epochs=50,\n",
    "                   validation_data=(X_val, Y_val))"
   ]
  },
  {
   "cell_type": "markdown",
   "metadata": {},
   "source": [
    "# Train"
   ]
  },
  {
   "cell_type": "code",
   "execution_count": 43,
   "metadata": {},
   "outputs": [
    {
     "name": "stdout",
     "output_type": "stream",
     "text": [
      "Train on 374 samples, validate on 42 samples\n",
      "Epoch 1/50\n",
      "374/374 [==============================] - 9s 25ms/step - loss: 0.4217 - mean_iou: 0.4029 - val_loss: 0.2723 - val_mean_iou: 0.4289\n",
      "\n",
      "Epoch 00001: val_loss improved from inf to 0.27230, saving model to model.h5\n",
      "Epoch 2/50\n",
      "374/374 [==============================] - 4s 11ms/step - loss: 0.2230 - mean_iou: 0.4643 - val_loss: 0.3530 - val_mean_iou: 0.5021\n",
      "\n",
      "Epoch 00002: val_loss did not improve\n",
      "Epoch 3/50\n",
      "374/374 [==============================] - 4s 11ms/step - loss: 0.1573 - mean_iou: 0.5363 - val_loss: 0.2048 - val_mean_iou: 0.5699\n",
      "\n",
      "Epoch 00003: val_loss improved from 0.27230 to 0.20475, saving model to model.h5\n",
      "Epoch 4/50\n",
      "374/374 [==============================] - 4s 11ms/step - loss: 0.1417 - mean_iou: 0.5930 - val_loss: 0.1238 - val_mean_iou: 0.6131\n",
      "\n",
      "Epoch 00004: val_loss improved from 0.20475 to 0.12377, saving model to model.h5\n",
      "Epoch 5/50\n",
      "374/374 [==============================] - 4s 11ms/step - loss: 0.1241 - mean_iou: 0.6315 - val_loss: 0.1310 - val_mean_iou: 0.6450\n",
      "\n",
      "Epoch 00005: val_loss did not improve\n",
      "Epoch 6/50\n",
      "374/374 [==============================] - 4s 11ms/step - loss: 0.1244 - mean_iou: 0.6576 - val_loss: 0.1198 - val_mean_iou: 0.6675\n",
      "\n",
      "Epoch 00006: val_loss improved from 0.12377 to 0.11976, saving model to model.h5\n",
      "Epoch 7/50\n",
      "374/374 [==============================] - 4s 11ms/step - loss: 0.1117 - mean_iou: 0.6772 - val_loss: 0.1153 - val_mean_iou: 0.6855\n",
      "\n",
      "Epoch 00007: val_loss improved from 0.11976 to 0.11526, saving model to model.h5\n",
      "Epoch 8/50\n",
      "374/374 [==============================] - 4s 11ms/step - loss: 0.1085 - mean_iou: 0.6927 - val_loss: 0.1022 - val_mean_iou: 0.7005\n",
      "\n",
      "Epoch 00008: val_loss improved from 0.11526 to 0.10215, saving model to model.h5\n",
      "Epoch 9/50\n",
      "374/374 [==============================] - 4s 11ms/step - loss: 0.1027 - mean_iou: 0.7063 - val_loss: 0.0996 - val_mean_iou: 0.7125\n",
      "\n",
      "Epoch 00009: val_loss improved from 0.10215 to 0.09959, saving model to model.h5\n",
      "Epoch 10/50\n",
      "374/374 [==============================] - 4s 11ms/step - loss: 0.0978 - mean_iou: 0.7179 - val_loss: 0.0976 - val_mean_iou: 0.7233\n",
      "\n",
      "Epoch 00010: val_loss improved from 0.09959 to 0.09761, saving model to model.h5\n",
      "Epoch 11/50\n",
      "374/374 [==============================] - 4s 11ms/step - loss: 0.0964 - mean_iou: 0.7284 - val_loss: 0.0937 - val_mean_iou: 0.7328\n",
      "\n",
      "Epoch 00011: val_loss improved from 0.09761 to 0.09367, saving model to model.h5\n",
      "Epoch 12/50\n",
      "374/374 [==============================] - 4s 11ms/step - loss: 0.0999 - mean_iou: 0.7370 - val_loss: 0.1016 - val_mean_iou: 0.7404\n",
      "\n",
      "Epoch 00012: val_loss did not improve\n",
      "Epoch 13/50\n",
      "374/374 [==============================] - 4s 11ms/step - loss: 0.0947 - mean_iou: 0.7437 - val_loss: 0.0946 - val_mean_iou: 0.7471\n",
      "\n",
      "Epoch 00013: val_loss did not improve\n",
      "Epoch 14/50\n",
      "374/374 [==============================] - 4s 11ms/step - loss: 0.0878 - mean_iou: 0.7504 - val_loss: 0.0887 - val_mean_iou: 0.7536\n",
      "\n",
      "Epoch 00014: val_loss improved from 0.09367 to 0.08871, saving model to model.h5\n",
      "Epoch 15/50\n",
      "374/374 [==============================] - 4s 11ms/step - loss: 0.0860 - mean_iou: 0.7570 - val_loss: 0.0871 - val_mean_iou: 0.7599\n",
      "\n",
      "Epoch 00015: val_loss improved from 0.08871 to 0.08708, saving model to model.h5\n",
      "Epoch 16/50\n",
      "374/374 [==============================] - 4s 11ms/step - loss: 0.0834 - mean_iou: 0.7625 - val_loss: 0.0877 - val_mean_iou: 0.7652\n",
      "\n",
      "Epoch 00016: val_loss did not improve\n",
      "Epoch 17/50\n",
      "374/374 [==============================] - 4s 11ms/step - loss: 0.0846 - mean_iou: 0.7676 - val_loss: 0.0853 - val_mean_iou: 0.7699\n",
      "\n",
      "Epoch 00017: val_loss improved from 0.08708 to 0.08525, saving model to model.h5\n",
      "Epoch 18/50\n",
      "374/374 [==============================] - 4s 11ms/step - loss: 0.0796 - mean_iou: 0.7722 - val_loss: 0.0922 - val_mean_iou: 0.7745\n",
      "\n",
      "Epoch 00018: val_loss did not improve\n",
      "Epoch 19/50\n",
      "374/374 [==============================] - 4s 11ms/step - loss: 0.0831 - mean_iou: 0.7763 - val_loss: 0.0830 - val_mean_iou: 0.7783\n",
      "\n",
      "Epoch 00019: val_loss improved from 0.08525 to 0.08305, saving model to model.h5\n",
      "Epoch 20/50\n",
      "374/374 [==============================] - 4s 11ms/step - loss: 0.0794 - mean_iou: 0.7801 - val_loss: 0.0971 - val_mean_iou: 0.7819\n",
      "\n",
      "Epoch 00020: val_loss did not improve\n",
      "Epoch 21/50\n",
      "374/374 [==============================] - 4s 11ms/step - loss: 0.0871 - mean_iou: 0.7835 - val_loss: 0.0949 - val_mean_iou: 0.7850\n",
      "\n",
      "Epoch 00021: val_loss did not improve\n",
      "Epoch 22/50\n",
      "374/374 [==============================] - 4s 11ms/step - loss: 0.0819 - mean_iou: 0.7864 - val_loss: 0.0879 - val_mean_iou: 0.7877\n",
      "\n",
      "Epoch 00022: val_loss did not improve\n",
      "Epoch 23/50\n",
      "374/374 [==============================] - 4s 11ms/step - loss: 0.0776 - mean_iou: 0.7893 - val_loss: 0.0858 - val_mean_iou: 0.7908\n",
      "\n",
      "Epoch 00023: val_loss did not improve\n",
      "Epoch 24/50\n",
      "374/374 [==============================] - 4s 11ms/step - loss: 0.0756 - mean_iou: 0.7922 - val_loss: 0.0815 - val_mean_iou: 0.7935\n",
      "\n",
      "Epoch 00024: val_loss improved from 0.08305 to 0.08149, saving model to model.h5\n",
      "Epoch 25/50\n",
      "374/374 [==============================] - 4s 11ms/step - loss: 0.0740 - mean_iou: 0.7950 - val_loss: 0.0910 - val_mean_iou: 0.7962\n",
      "\n",
      "Epoch 00025: val_loss did not improve\n",
      "Epoch 26/50\n",
      "374/374 [==============================] - 4s 11ms/step - loss: 0.0747 - mean_iou: 0.7974 - val_loss: 0.0807 - val_mean_iou: 0.7987\n",
      "\n",
      "Epoch 00026: val_loss improved from 0.08149 to 0.08071, saving model to model.h5\n",
      "Epoch 27/50\n",
      "374/374 [==============================] - 4s 11ms/step - loss: 0.0710 - mean_iou: 0.7999 - val_loss: 0.0829 - val_mean_iou: 0.8011\n",
      "\n",
      "Epoch 00027: val_loss did not improve\n",
      "Epoch 28/50\n",
      "374/374 [==============================] - 4s 11ms/step - loss: 0.0734 - mean_iou: 0.8023 - val_loss: 0.0952 - val_mean_iou: 0.8033\n",
      "\n",
      "Epoch 00028: val_loss did not improve\n",
      "Epoch 29/50\n",
      "374/374 [==============================] - 4s 11ms/step - loss: 0.0734 - mean_iou: 0.8042 - val_loss: 0.0821 - val_mean_iou: 0.8052\n",
      "\n",
      "Epoch 00029: val_loss did not improve\n",
      "Epoch 30/50\n",
      "374/374 [==============================] - 4s 11ms/step - loss: 0.0733 - mean_iou: 0.8062 - val_loss: 0.0838 - val_mean_iou: 0.8071\n",
      "\n",
      "Epoch 00030: val_loss did not improve\n",
      "Epoch 31/50\n",
      "374/374 [==============================] - 4s 11ms/step - loss: 0.0755 - mean_iou: 0.8079 - val_loss: 0.0987 - val_mean_iou: 0.8087\n",
      "\n",
      "Epoch 00031: val_loss did not improve\n",
      "Epoch 00031: early stopping\n",
      "Training time... 2.3610988020896913\n"
     ]
    }
   ],
   "source": [
    "tic = time.time()\n",
    "model_name = 'model' \n",
    "model_name = model_name + '.h5'\n",
    "earlystopper = EarlyStopping(patience=5, verbose=1)\n",
    "checkpointer = ModelCheckpoint(model_name, verbose=1, save_best_only=True)\n",
    "results = model.fit(X_train, Y_train, validation_split=0.1, batch_size=16, epochs=50, \n",
    "                    callbacks=[earlystopper, checkpointer])\n",
    "\n",
    "toc = time.time() - tic\n",
    "print('Training time...', toc/60)"
   ]
  },
  {
   "cell_type": "code",
   "execution_count": 38,
   "metadata": {},
   "outputs": [
    {
     "name": "stdout",
     "output_type": "stream",
     "text": [
      "Epoch 1/1\n",
      "416/416 [==============================] - 4s 10ms/step - loss: 0.0698 - mean_iou: 0.8432\n"
     ]
    },
    {
     "data": {
      "text/plain": [
       "<keras.callbacks.History at 0x7f273f72ee10>"
      ]
     },
     "execution_count": 38,
     "metadata": {},
     "output_type": "execute_result"
    }
   ],
   "source": [
    "model.fit(X_train, Y_train, epochs=1, batch_size=16)"
   ]
  },
  {
   "cell_type": "markdown",
   "metadata": {},
   "source": [
    "# Predict"
   ]
  },
  {
   "cell_type": "code",
   "execution_count": 39,
   "metadata": {},
   "outputs": [
    {
     "name": "stdout",
     "output_type": "stream",
     "text": [
      "374/374 [==============================] - 2s 6ms/step\n",
      "42/42 [==============================] - 0s 2ms/step\n",
      "65/65 [==============================] - 0s 2ms/step\n"
     ]
    }
   ],
   "source": [
    "preds_test_upsampled = predict_results(model_name, X_train, X_test, sizes_test)"
   ]
  },
  {
   "cell_type": "markdown",
   "metadata": {},
   "source": [
    "# Create a submission file"
   ]
  },
  {
   "cell_type": "code",
   "execution_count": 40,
   "metadata": {},
   "outputs": [],
   "source": [
    "filename = 'predictions'\n",
    "test_ids = os.listdir(TEST_PATH)\n",
    "sub = create_submission_file(preds_test_upsampled, test_ids, filename)"
   ]
  },
  {
   "cell_type": "code",
   "execution_count": 41,
   "metadata": {},
   "outputs": [
    {
     "data": {
      "text/html": [
       "<div>\n",
       "<style scoped>\n",
       "    .dataframe tbody tr th:only-of-type {\n",
       "        vertical-align: middle;\n",
       "    }\n",
       "\n",
       "    .dataframe tbody tr th {\n",
       "        vertical-align: top;\n",
       "    }\n",
       "\n",
       "    .dataframe thead th {\n",
       "        text-align: right;\n",
       "    }\n",
       "</style>\n",
       "<table border=\"1\" class=\"dataframe\">\n",
       "  <thead>\n",
       "    <tr style=\"text-align: right;\">\n",
       "      <th></th>\n",
       "      <th>ImageId</th>\n",
       "      <th>EncodedPixels</th>\n",
       "    </tr>\n",
       "  </thead>\n",
       "  <tbody>\n",
       "    <tr>\n",
       "      <th>0</th>\n",
       "      <td>0999dab07b11bc85fb8464fc36c947fbd8b5d6ec498173...</td>\n",
       "      <td>46713 1 47231 4 47750 6 48268 7 48787 8 49306 ...</td>\n",
       "    </tr>\n",
       "    <tr>\n",
       "      <th>1</th>\n",
       "      <td>0999dab07b11bc85fb8464fc36c947fbd8b5d6ec498173...</td>\n",
       "      <td>116259 2 116777 6 117296 7 117814 8 118333 8 1...</td>\n",
       "    </tr>\n",
       "    <tr>\n",
       "      <th>2</th>\n",
       "      <td>0999dab07b11bc85fb8464fc36c947fbd8b5d6ec498173...</td>\n",
       "      <td>83565 3 84085 3 84604 5 85122 8 85641 10 86160...</td>\n",
       "    </tr>\n",
       "    <tr>\n",
       "      <th>3</th>\n",
       "      <td>0999dab07b11bc85fb8464fc36c947fbd8b5d6ec498173...</td>\n",
       "      <td>24415 11 24932 16 25450 18 25967 21 26485 23 2...</td>\n",
       "    </tr>\n",
       "    <tr>\n",
       "      <th>4</th>\n",
       "      <td>0999dab07b11bc85fb8464fc36c947fbd8b5d6ec498173...</td>\n",
       "      <td>117327 8 117843 12 118361 14 118878 18 119396 ...</td>\n",
       "    </tr>\n",
       "  </tbody>\n",
       "</table>\n",
       "</div>"
      ],
      "text/plain": [
       "                                             ImageId  \\\n",
       "0  0999dab07b11bc85fb8464fc36c947fbd8b5d6ec498173...   \n",
       "1  0999dab07b11bc85fb8464fc36c947fbd8b5d6ec498173...   \n",
       "2  0999dab07b11bc85fb8464fc36c947fbd8b5d6ec498173...   \n",
       "3  0999dab07b11bc85fb8464fc36c947fbd8b5d6ec498173...   \n",
       "4  0999dab07b11bc85fb8464fc36c947fbd8b5d6ec498173...   \n",
       "\n",
       "                                       EncodedPixels  \n",
       "0  46713 1 47231 4 47750 6 48268 7 48787 8 49306 ...  \n",
       "1  116259 2 116777 6 117296 7 117814 8 118333 8 1...  \n",
       "2  83565 3 84085 3 84604 5 85122 8 85641 10 86160...  \n",
       "3  24415 11 24932 16 25450 18 25967 21 26485 23 2...  \n",
       "4  117327 8 117843 12 118361 14 118878 18 119396 ...  "
      ]
     },
     "execution_count": 41,
     "metadata": {},
     "output_type": "execute_result"
    }
   ],
   "source": [
    "sub.head()"
   ]
  },
  {
   "cell_type": "code",
   "execution_count": 37,
   "metadata": {},
   "outputs": [
    {
     "name": "stdout",
     "output_type": "stream",
     "text": [
      "Total runtime... 49.06683441003164\n"
     ]
    }
   ],
   "source": [
    "print('Total runtime...', (time.time() - main_tic)/60)"
   ]
  },
  {
   "cell_type": "code",
   "execution_count": null,
   "metadata": {},
   "outputs": [],
   "source": []
  }
 ],
 "metadata": {
  "kernelspec": {
   "display_name": "Python 3",
   "language": "python",
   "name": "python3"
  },
  "language_info": {
   "codemirror_mode": {
    "name": "ipython",
    "version": 3
   },
   "file_extension": ".py",
   "mimetype": "text/x-python",
   "name": "python",
   "nbconvert_exporter": "python",
   "pygments_lexer": "ipython3",
   "version": "3.5.2"
  }
 },
 "nbformat": 4,
 "nbformat_minor": 2
}
